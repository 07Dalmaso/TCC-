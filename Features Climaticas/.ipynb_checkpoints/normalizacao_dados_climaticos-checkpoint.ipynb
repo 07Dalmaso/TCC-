{
 "cells": [
  {
   "cell_type": "code",
   "execution_count": null,
   "id": "2d9933aa-757a-40ce-94e6-9f47db26e0fc",
   "metadata": {},
   "outputs": [],
   "source": [
    "import os\n",
    "import pandas as pd\n",
    "\n",
    "diretorio = '2019'\n",
    "\n",
    "diretorio_novo = '2019-formatado'\n",
    "\n",
    "arquivos_csv = [f for f in os.listdir(diretorio) if f.endswith('.csv')]\n",
    "\n",
    "colunas_desejadas = [\n",
    "    'Data', \n",
    "    'Hora UTC', \n",
    "    'PRECIPITAÇÃO TOTAL, HORÁRIO (mm)', \n",
    "    'TEMPERATURA MÁXIMA NA HORA ANT. (AUT) (°C)', \n",
    "    'TEMPERATURA MÍNIMA NA HORA ANT. (AUT) (°C)', \n",
    "    'UMIDADE REL. MAX. NA HORA ANT. (AUT) (%)', \n",
    "    'UMIDADE REL. MIN. NA HORA ANT. (AUT) (%)'\n",
    "]\n",
    "\n",
    "def processar_csv(arquivo):\n",
    "    caminho_arquivo = os.path.join(diretorio, arquivo)\n",
    "    df = pd.read_csv(caminho_arquivo)\n",
    "\n",
    "    df.columns = df.columns.str.strip()\n",
    "\n",
    "    colunas_presentes = [coluna for coluna in colunas_desejadas if coluna in df.columns]\n",
    "\n",
    "    df_filtrado = df[colunas_presentes]\n",
    "\n",
    "    novo_caminho = os.path.join(diretorio_novo, f'filtrado_{arquivo}')\n",
    "    df_filtrado.to_csv(novo_caminho, index=False)\n",
    "\n",
    "    print(f'Arquivo {arquivo} processado. Novo arquivo salvo como filtrado_{arquivo}.')\n",
    "\n",
    "for arquivo in arquivos_csv:\n",
    "    processar_csv(arquivo)"
   ]
  },
  {
   "cell_type": "code",
   "execution_count": null,
   "id": "ab812058-b587-4ebe-8bf9-a74bde99a80c",
   "metadata": {},
   "outputs": [],
   "source": []
  }
 ],
 "metadata": {
  "kernelspec": {
   "display_name": "Python 3 (ipykernel)",
   "language": "python",
   "name": "python3"
  },
  "language_info": {
   "codemirror_mode": {
    "name": "ipython",
    "version": 3
   },
   "file_extension": ".py",
   "mimetype": "text/x-python",
   "name": "python",
   "nbconvert_exporter": "python",
   "pygments_lexer": "ipython3",
   "version": "3.11.7"
  }
 },
 "nbformat": 4,
 "nbformat_minor": 5
}
