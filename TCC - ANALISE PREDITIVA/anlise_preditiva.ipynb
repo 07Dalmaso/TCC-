{
 "cells": [
  {
   "cell_type": "markdown",
   "id": "76c42209-6102-4fe5-ae4c-d95b1bd167b5",
   "metadata": {},
   "source": [
    "**Imports do Projeto**"
   ]
  },
  {
   "cell_type": "code",
   "execution_count": 3,
   "id": "ac274557-5538-462b-8c2a-b58e36f19383",
   "metadata": {},
   "outputs": [],
   "source": [
    "import pandas as pd\n",
    "import os\n",
    "import numpy as np\n",
    "import seaborn as sns\n",
    "import matplotlib.pyplot as plt\n",
    "import plotly.express as px"
   ]
  },
  {
   "cell_type": "markdown",
   "id": "4cbbf923-db81-49aa-8384-cafa19f5e474",
   "metadata": {},
   "source": [
    "**Anos análisado**"
   ]
  },
  {
   "cell_type": "code",
   "execution_count": 4,
   "id": "6cad6aa7-46e3-4923-98a6-2f952173d476",
   "metadata": {},
   "outputs": [],
   "source": [
    "anos = ['2019', '2020', '2021', '2022', '2023']"
   ]
  },
  {
   "cell_type": "code",
   "execution_count": 5,
   "id": "bd6559cf-9230-4772-b54b-8ec98bad8b9f",
   "metadata": {},
   "outputs": [
    {
     "name": "stdout",
     "output_type": "stream",
     "text": [
      "Arquivo 6-2019-CAMPOSDOSGOYTACAZES.csv processado. Novo arquivo salvo como 2019-formatado\\6-2019-CAMPOSDOSGOYTACAZES.csv.\n",
      "Arquivo 7-2019-ANGRADOSREIS.csv processado. Novo arquivo salvo como 2019-formatado\\7-2019-ANGRADOSREIS.csv.\n",
      "Arquivo 8-2019-RIODEJANEIRO.csv processado. Novo arquivo salvo como 2019-formatado\\8-2019-RIODEJANEIRO.csv.\n",
      "Arquivo 9-2019-VALENCA.csv processado. Novo arquivo salvo como 2019-formatado\\9-2019-VALENCA.csv.\n",
      "Arquivo 6-2020-CAMPOSDOSGOYTACAZES.csv processado. Novo arquivo salvo como 2020-formatado\\6-2020-CAMPOSDOSGOYTACAZES.csv.\n",
      "Arquivo 7-2020-ANGRADOSREIS.csv processado. Novo arquivo salvo como 2020-formatado\\7-2020-ANGRADOSREIS.csv.\n",
      "Arquivo 8-2020-RIODEJANEIRO.csv processado. Novo arquivo salvo como 2020-formatado\\8-2020-RIODEJANEIRO.csv.\n",
      "Arquivo 9-2020-VALENCA.csv processado. Novo arquivo salvo como 2020-formatado\\9-2020-VALENCA.csv.\n",
      "Arquivo 6-2021-CAMPOSDOSGOYTACAZES.csv processado. Novo arquivo salvo como 2021-formatado\\6-2021-CAMPOSDOSGOYTACAZES.csv.\n",
      "Arquivo 7-2021-ANGRADOSREIS.csv processado. Novo arquivo salvo como 2021-formatado\\7-2021-ANGRADOSREIS.csv.\n",
      "Arquivo 8-2021-RIODEJANEIRO.csv processado. Novo arquivo salvo como 2021-formatado\\8-2021-RIODEJANEIRO.csv.\n",
      "Arquivo 9-2021-VALENCA.csv processado. Novo arquivo salvo como 2021-formatado\\9-2021-VALENCA.csv.\n",
      "Arquivo 6-2022-CAMPOSDOSGOYTACAZES.csv processado. Novo arquivo salvo como 2022-formatado\\6-2022-CAMPOSDOSGOYTACAZES.csv.\n",
      "Arquivo 7-2022-ANGRADOSREIS.csv processado. Novo arquivo salvo como 2022-formatado\\7-2022-ANGRADOSREIS.csv.\n",
      "Arquivo 8-2022-RIODEJANEIRO.csv processado. Novo arquivo salvo como 2022-formatado\\8-2022-RIODEJANEIRO.csv.\n",
      "Arquivo 9-2022-VALENCA.csv processado. Novo arquivo salvo como 2022-formatado\\9-2022-VALENCA.csv.\n",
      "Arquivo 6-2023-CAMPOSDOSGOYTACAZES.csv processado. Novo arquivo salvo como 2023-formatado\\6-2023-CAMPOSDOSGOYTACAZES.csv.\n",
      "Arquivo 7-2023-ANGRADOSREIS.csv processado. Novo arquivo salvo como 2023-formatado\\7-2023-ANGRADOSREIS.csv.\n",
      "Arquivo 8-2023-RIO DE JANEIRO.csv processado. Novo arquivo salvo como 2023-formatado\\8-2023-RIO DE JANEIRO.csv.\n",
      "Arquivo 9-2023-VALENCIA.csv processado. Novo arquivo salvo como 2023-formatado\\9-2023-VALENCIA.csv.\n"
     ]
    }
   ],
   "source": [
    "# Colunas que queremos filtrar nos arquivos CSV\n",
    "colunas_desejadas = [\n",
    "    'Data', \n",
    "    'Hora UTC', \n",
    "    'PRECIPITAÇÃO TOTAL, HORÁRIO (mm)', \n",
    "    'TEMPERATURA MÁXIMA NA HORA ANT. (AUT) (°C)', \n",
    "    'TEMPERATURA MÍNIMA NA HORA ANT. (AUT) (°C)', \n",
    "    'UMIDADE REL. MAX. NA HORA ANT. (AUT) (%)', \n",
    "    'UMIDADE REL. MIN. NA HORA ANT. (AUT) (%)'\n",
    "]\n",
    "\n",
    "def processar_csv(diretorio, arquivo, diretorio_novo):\n",
    "    # Caminho completo do arquivo\n",
    "    caminho_arquivo = os.path.join(diretorio, arquivo)\n",
    "    # Lê o arquivo CSV\n",
    "    df = pd.read_csv(caminho_arquivo)\n",
    "\n",
    "    # Remove espaços em branco dos nomes das colunas\n",
    "    df.columns = df.columns.str.strip()\n",
    "\n",
    "    # Filtra apenas as colunas que existem no arquivo\n",
    "    colunas_presentes = [coluna for coluna in colunas_desejadas if coluna in df.columns]\n",
    "    df_filtrado = df[colunas_presentes]\n",
    "\n",
    "    # Caminho completo para salvar o novo arquivo CSV\n",
    "    novo_caminho = os.path.join(diretorio_novo, arquivo)\n",
    "    df_filtrado.to_csv(novo_caminho, index=False)\n",
    "\n",
    "    print(f'Arquivo {arquivo} processado. Novo arquivo salvo como {novo_caminho}.')\n",
    "\n",
    "# Iterar sobre cada ano\n",
    "for ano in anos:\n",
    "    diretorio = ano\n",
    "    diretorio_novo = f'{ano}-formatado'\n",
    "    \n",
    "    # Cria o diretório novo se não existir\n",
    "    os.makedirs(diretorio_novo, exist_ok=True)\n",
    "\n",
    "    # Lista todos os arquivos CSV no diretório atual\n",
    "    arquivos_csv = [f for f in os.listdir(diretorio) if f.endswith('.csv')]\n",
    "\n",
    "    # Processa cada arquivo no diretório\n",
    "    for arquivo in arquivos_csv:\n",
    "        processar_csv(diretorio, arquivo, diretorio_novo)"
   ]
  },
  {
   "cell_type": "code",
   "execution_count": 8,
   "id": "35f7fb4e-2979-49b6-bd3b-6a78eba04e39",
   "metadata": {},
   "outputs": [
    {
     "name": "stdout",
     "output_type": "stream",
     "text": [
      "Salvo: medias_semanal\\medias_semanal_2019-formatado_6-2019-CAMPOSDOSGOYTACAZES.csv\n",
      "Salvo: medias_semanal\\medias_semanal_2019-formatado_7-2019-ANGRADOSREIS.csv\n",
      "Salvo: medias_semanal\\medias_semanal_2019-formatado_8-2019-RIODEJANEIRO.csv\n",
      "Salvo: medias_semanal\\medias_semanal_2019-formatado_9-2019-VALENCA.csv\n",
      "Salvo: medias_semanal\\medias_semanal_2020-formatado_6-2020-CAMPOSDOSGOYTACAZES.csv\n",
      "Salvo: medias_semanal\\medias_semanal_2020-formatado_7-2020-ANGRADOSREIS.csv\n",
      "Salvo: medias_semanal\\medias_semanal_2020-formatado_8-2020-RIODEJANEIRO.csv\n",
      "Salvo: medias_semanal\\medias_semanal_2020-formatado_9-2020-VALENCA.csv\n",
      "Salvo: medias_semanal\\medias_semanal_2021-formatado_6-2021-CAMPOSDOSGOYTACAZES.csv\n",
      "Salvo: medias_semanal\\medias_semanal_2021-formatado_7-2021-ANGRADOSREIS.csv\n",
      "Salvo: medias_semanal\\medias_semanal_2021-formatado_8-2021-RIODEJANEIRO.csv\n",
      "Salvo: medias_semanal\\medias_semanal_2021-formatado_9-2021-VALENCA.csv\n",
      "Salvo: medias_semanal\\medias_semanal_2022-formatado_6-2022-CAMPOSDOSGOYTACAZES.csv\n",
      "Salvo: medias_semanal\\medias_semanal_2022-formatado_7-2022-ANGRADOSREIS.csv\n",
      "Salvo: medias_semanal\\medias_semanal_2022-formatado_8-2022-RIODEJANEIRO.csv\n",
      "Salvo: medias_semanal\\medias_semanal_2022-formatado_9-2022-VALENCA.csv\n",
      "Salvo: medias_semanal\\medias_semanal_2023-formatado_6-2023-CAMPOSDOSGOYTACAZES.csv\n",
      "Salvo: medias_semanal\\medias_semanal_2023-formatado_7-2023-ANGRADOSREIS.csv\n",
      "Salvo: medias_semanal\\medias_semanal_2023-formatado_8-2023-RIO DE JANEIRO.csv\n",
      "Salvo: medias_semanal\\medias_semanal_2023-formatado_9-2023-VALENCIA.csv\n"
     ]
    }
   ],
   "source": [
    "import pandas as pd\n",
    "import os\n",
    "\n",
    "# Lista de anos com suas respectivas pastas\n",
    "anos = ['2019-formatado', '2020-formatado', '2021-formatado', '2022-formatado', '2023-formatado']\n",
    "\n",
    "# Função para processar um arquivo CSV\n",
    "def processar_csv(arquivo_csv, ano):\n",
    "    # Leitura do CSV\n",
    "    df = pd.read_csv(arquivo_csv, sep=',')  # ajuste o separador conforme necessário\n",
    "    \n",
    "    # Converter a coluna de Data para datetime adequado\n",
    "    df['Data'] = pd.to_datetime(df['Data'], format='%d/%m/%Y')\n",
    "    \n",
    "    # Converter as colunas numéricas para garantir que possuam valores válidos\n",
    "    colunas_para_converter = [\n",
    "        'PRECIPITAÇÃO TOTAL, HORÁRIO (mm)', \n",
    "        'TEMPERATURA MÁXIMA NA HORA ANT. (AUT) (°C)', \n",
    "        'TEMPERATURA MÍNIMA NA HORA ANT. (AUT) (°C)', \n",
    "        'UMIDADE REL. MAX. NA HORA ANT. (AUT) (%)', \n",
    "        'UMIDADE REL. MIN. NA HORA ANT. (AUT) (%)'\n",
    "    ]\n",
    "    \n",
    "    for coluna in colunas_para_converter:\n",
    "        df[coluna] = pd.to_numeric(df[coluna], errors='coerce')  # Converte para numérico, ignorando erros\n",
    "    \n",
    "    # Agrupar por semana e calcular a média dos campos relevantes\n",
    "    df['Semana'] = df['Data'].dt.isocalendar().week\n",
    "    medias_semanal = df.groupby('Semana').agg({\n",
    "        'PRECIPITAÇÃO TOTAL, HORÁRIO (mm)': 'mean',\n",
    "        'TEMPERATURA MÁXIMA NA HORA ANT. (AUT) (°C)': 'mean',\n",
    "        'TEMPERATURA MÍNIMA NA HORA ANT. (AUT) (°C)': 'mean',\n",
    "        'UMIDADE REL. MAX. NA HORA ANT. (AUT) (%)': 'mean',\n",
    "        'UMIDADE REL. MIN. NA HORA ANT. (AUT) (%)': 'mean'\n",
    "    }).reset_index()\n",
    "    \n",
    "    # Criar o novo caminho para salvar o arquivo na raiz (fora da pasta do ano)\n",
    "    nova_pasta = os.path.join('medias_semanal')  # Pasta será criada na raiz do projeto\n",
    "    os.makedirs(nova_pasta, exist_ok=True)  # Cria a pasta, se não existir\n",
    "    \n",
    "    # Nome do novo arquivo CSV, incluindo o ano no nome para identificação\n",
    "    nome_arquivo_novo = os.path.join(nova_pasta, f'medias_semanal_{ano}_{os.path.basename(arquivo_csv)}')\n",
    "    \n",
    "    # Salvar o CSV com as médias semanais\n",
    "    medias_semanal.to_csv(nome_arquivo_novo, index=False)\n",
    "    print(f'Salvo: {nome_arquivo_novo}')\n",
    "\n",
    "# Processar cada arquivo de cada ano\n",
    "for ano in anos:\n",
    "    for arquivo in os.listdir(ano):\n",
    "        if arquivo.endswith('.csv'):\n",
    "            caminho_arquivo = os.path.join(ano, arquivo)\n",
    "            processar_csv(caminho_arquivo, ano)\n"
   ]
  },
  {
   "cell_type": "markdown",
   "id": "389f4894-1da3-4983-aea4-9c975b867f49",
   "metadata": {},
   "source": [
    "**Porcesso para adcionar 0 casos as semanas faltantes**"
   ]
  },
  {
   "cell_type": "code",
   "execution_count": 7,
   "id": "12edf7c0-1560-4913-9d58-39d5046685a9",
   "metadata": {},
   "outputs": [
    {
     "name": "stdout",
     "output_type": "stream",
     "text": [
      "Processamento concluído! Semanas faltantes preenchidas com 0 nos arquivos originais.\n"
     ]
    }
   ],
   "source": [
    "pasta_arquivos = 'casos_dengue_rj'\n",
    "\n",
    "semanas_padrao = list(range(1, 53))  # 52 semanas\n",
    "\n",
    "for arquivo in os.listdir(pasta_arquivos):\n",
    "    if arquivo.endswith('.csv'):\n",
    "        caminho_arquivo = os.path.join(pasta_arquivos, arquivo)\n",
    "        \n",
    "        df = pd.read_csv(caminho_arquivo)\n",
    "\n",
    "        if 'Semana epidemiológica dos sintomas' in df.columns and 'Casos notificados' in df.columns:\n",
    "            df = df[df['Semana epidemiológica dos sintomas'] != 'Total']\n",
    "            \n",
    "            df['Semana epidemiológica dos sintomas'] = pd.to_numeric(df['Semana epidemiológica dos sintomas'], errors='coerce')\n",
    "            df_completo = pd.DataFrame({'Semana epidemiológica dos sintomas': semanas_padrao})\n",
    "            df = df_completo.merge(df, on='Semana epidemiológica dos sintomas', how='left').fillna(0)\n",
    "\n",
    "            df['Casos notificados'] = df['Casos notificados'].astype(int)\n",
    "\n",
    "            df.to_csv(caminho_arquivo, index=False)\n",
    "\n",
    "print(\"Processamento concluído! Semanas faltantes preenchidas com 0 nos arquivos originais.\")\n"
   ]
  }
 ],
 "metadata": {
  "kernelspec": {
   "display_name": "Python 3 (ipykernel)",
   "language": "python",
   "name": "python3"
  },
  "language_info": {
   "codemirror_mode": {
    "name": "ipython",
    "version": 3
   },
   "file_extension": ".py",
   "mimetype": "text/x-python",
   "name": "python",
   "nbconvert_exporter": "python",
   "pygments_lexer": "ipython3",
   "version": "3.11.7"
  }
 },
 "nbformat": 4,
 "nbformat_minor": 5
}
